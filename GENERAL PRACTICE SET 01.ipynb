{
 "cells": [
  {
   "cell_type": "code",
   "execution_count": 5,
   "id": "9fedff00",
   "metadata": {},
   "outputs": [
    {
     "name": "stdout",
     "output_type": "stream",
     "text": [
      "10\n",
      "10\n",
      "The sum of 10 and 10 is 20\n"
     ]
    }
   ],
   "source": [
    "# Given two numbers num1 and num2. The task is to write a Python program to find the addition of these two numbers.\n",
    "\n",
    "num1=int(input())\n",
    "num2=int(input())\n",
    "\n",
    "sums= num1+num2\n",
    "print(f\"The sum of {num1} and {num2} is {sums}\")"
   ]
  },
  {
   "cell_type": "code",
   "execution_count": 17,
   "id": "21b16e2a",
   "metadata": {},
   "outputs": [
    {
     "name": "stdout",
     "output_type": "stream",
     "text": [
      "Maximum number between 40 and 30 is 40\n",
      "200\n",
      "30\n",
      "20\n"
     ]
    }
   ],
   "source": [
    "# Given two numbers, write a Python code to find the Maximum of these two numbers.\n",
    "\n",
    "x=40\n",
    "y=30\n",
    "\n",
    "if x>y:\n",
    "    res=x\n",
    "else:\n",
    "    res=y\n",
    "print(f\"Maximum number between {x} and {y} is {res}\")\n",
    "\n",
    "\n",
    "# another\n",
    "x=200\n",
    "y=5\n",
    "\n",
    "res= x if x>=y else y\n",
    "print(res)\n",
    "\n",
    "\n",
    "# another\n",
    "\n",
    "x=40\n",
    "y=30\n",
    "\n",
    "res=max(20,30)\n",
    "print(res)\n",
    "\n",
    "\n",
    "# another\n",
    "\n",
    "\n",
    "def max_fun(x,y):\n",
    "    if x>=y:\n",
    "        return x\n",
    "    else:\n",
    "        return y\n",
    "    \n",
    "print(max_fun(20,10))\n",
    "\n",
    "\n"
   ]
  },
  {
   "cell_type": "code",
   "execution_count": 34,
   "id": "7f705643",
   "metadata": {},
   "outputs": [
    {
     "name": "stdout",
     "output_type": "stream",
     "text": [
      "720\n",
      "720\n"
     ]
    }
   ],
   "source": [
    "# Python Program for factorial of a number\n",
    "\n",
    "# Factorial of a non-negative integer, is multiplication of all integers smaller than or equal to n.\n",
    "# For example factorial of 6 is 6*5*4*3*2*1 which is 720\n",
    "\n",
    "def factorial(num):\n",
    "    if num in [0,1]:\n",
    "        return 1\n",
    "    \n",
    "    elif num < 0:\n",
    "        return 0\n",
    "    \n",
    "    else:\n",
    "        res=1\n",
    "        i=1\n",
    "        while i<=num:\n",
    "            res=res*i\n",
    "            i+=1\n",
    "        return res\n",
    "\n",
    "r=factorial(6)\n",
    "print(r)\n",
    "\n",
    "\n",
    "# another (dont practice this)\n",
    "\n",
    "\n",
    "from math import factorial\n",
    "x=factorial(6)\n",
    "print(x)"
   ]
  },
  {
   "cell_type": "code",
   "execution_count": null,
   "id": "06c9b111",
   "metadata": {},
   "outputs": [],
   "source": [
    "# Python Program for simple interest\n",
    "\n",
    "Simple interest formula is given by:\n",
    "Simple Interest = (P x T x R)/100\n",
    "Where,\n",
    "P is the principle amount\n",
    "T is the time and\n",
    "R is the rate \n",
    "\n",
    "\n",
    "# EXAMPLE1:\n",
    "    \n",
    "Input : P = 10000\n",
    "        R = 5\n",
    "        T = 5\n",
    "Output :2500\n",
    "We need to find simple interest on \n",
    "Rs. 10,000 at the rate of 5% for 5 \n",
    "units of time.\n",
    "\n",
    "# EXAMPLE2:\n",
    "\n",
    "Input : P = 3000\n",
    "        R = 7\n",
    "        T = 1\n",
    "Output :210\n"
   ]
  },
  {
   "cell_type": "code",
   "execution_count": null,
   "id": "27764f82",
   "metadata": {},
   "outputs": [],
   "source": [
    "def simple_interest(p,r,t):\n",
    "    res=(p*r*t)/100\n",
    "    return res\n",
    "\n",
    "simple_interest(10000,5,5)\n",
    "    "
   ]
  },
  {
   "cell_type": "code",
   "execution_count": 43,
   "id": "d6fd7356",
   "metadata": {},
   "outputs": [
    {
     "name": "stdout",
     "output_type": "stream",
     "text": [
      "210.0\n"
     ]
    }
   ],
   "source": [
    "p=3000\n",
    "r=7\n",
    "t=1\n",
    "\n",
    "res=(p*r*t)/100\n",
    "print(res)"
   ]
  },
  {
   "cell_type": "code",
   "execution_count": 49,
   "id": "1838183d",
   "metadata": {},
   "outputs": [
    {
     "name": "stdout",
     "output_type": "stream",
     "text": [
      "0.33333\n"
     ]
    }
   ],
   "source": [
    "res=1/3\n",
    "print(round(res,5))"
   ]
  },
  {
   "cell_type": "code",
   "execution_count": null,
   "id": "203c276a",
   "metadata": {},
   "outputs": [],
   "source": [
    "# Python Program for compound interest\n",
    "\n",
    "Compound Interest formula: \n",
    "    \n",
    "Formula to calculate compound interest annually is given by: \n",
    "    \n",
    "A = P((1 + R/100)**t) \n",
    "\n",
    "Compound Interest = A – P \n",
    "Where, \n",
    "A is amount \n",
    "P is principle amount \n",
    "R is the rate and \n",
    "T is the time span\n",
    "\n",
    "# QNS.\n",
    "\n",
    "Input : Principle (amount): 1200\n",
    "        Time: 2\n",
    "        Rate: 5.4\n",
    "Output : Compound Interest = 133.099243"
   ]
  },
  {
   "cell_type": "code",
   "execution_count": 60,
   "id": "debc156f",
   "metadata": {},
   "outputs": [
    {
     "name": "stdout",
     "output_type": "stream",
     "text": [
      "133.0992000000001\n"
     ]
    }
   ],
   "source": [
    "def compound_int(p,t,r):\n",
    "    a=p*((1+r/100)**t)\n",
    "    CI=a-p\n",
    "    return CI\n",
    "\n",
    "res=compound_int(1200,2,5.4)\n",
    "print(res)"
   ]
  },
  {
   "cell_type": "code",
   "execution_count": 62,
   "id": "5672d2db",
   "metadata": {},
   "outputs": [
    {
     "name": "stdout",
     "output_type": "stream",
     "text": [
      "133.0992000000001\n"
     ]
    }
   ],
   "source": [
    "p=1200\n",
    "t=2\n",
    "r=5.4\n",
    "\n",
    "a=p*((1+r/100)**t)\n",
    "CI=a-p\n",
    "\n",
    "print(CI)\n"
   ]
  },
  {
   "cell_type": "code",
   "execution_count": 72,
   "id": "9fdd776c",
   "metadata": {},
   "outputs": [
    {
     "data": {
      "text/plain": [
       "66"
      ]
     },
     "execution_count": 72,
     "metadata": {},
     "output_type": "execute_result"
    }
   ],
   "source": [
    "# sum of number and their target sum \n",
    "\n",
    "EXAMPLE 1\n",
    "\n",
    "input : num =[2,7,11,15], target=9\n",
    "    \n",
    "output: [0,1]\n",
    "\n",
    "explanation : num[0]+num[1]==9, we return [0,1]"
   ]
  },
  {
   "cell_type": "code",
   "execution_count": 134,
   "id": "2ef41421",
   "metadata": {},
   "outputs": [
    {
     "name": "stdout",
     "output_type": "stream",
     "text": [
      "[0, 1]\n"
     ]
    }
   ],
   "source": [
    "def addsum(nums,target):\n",
    "    for i in range(len(nums)):\n",
    "        for j in range(i+1, len(nums)):\n",
    "            if nums[i]+nums[j]==target:\n",
    "                return [i,j]\n",
    "            else:\n",
    "                continue\n",
    "                \n",
    "num=[2,7,11,15]\n",
    "target=9\n",
    "res=addsum(num, target)\n",
    "print(res)            \n",
    "    \n",
    "    "
   ]
  },
  {
   "cell_type": "code",
   "execution_count": null,
   "id": "5ee96b72",
   "metadata": {},
   "outputs": [],
   "source": [
    "# Python Program to check Armstrong Number\n",
    "\n",
    "#EXAMPLE 1\n",
    "\n",
    "Input : 153\n",
    "Output : Yes\n",
    "    \n",
    "153 is an Armstrong number.\n",
    "\n",
    "1*1*1 + 5*5*5 + 3*3*3 = 153\n",
    "\n",
    "\n",
    "# EXAMPLE 2\n",
    "\n",
    "Input : 1201\n",
    "Output : No\n",
    "    \n",
    "1201 is not a Armstrong number.\n",
    "\n",
    "1*1*1*1 + 2*2*2*2 + 0*0*0*0 +1*1*1*1=10\n",
    "\n",
    "\n",
    "\n",
    "# my approach\n",
    "\n",
    "x=153\n",
    "\n",
    "calculate no of digits\n",
    "1. extract the digits 1, 5, 3 \n",
    "2. cube the each number\n",
    "3. sum of cube of each number\n",
    "4. check sum == x"
   ]
  },
  {
   "cell_type": "code",
   "execution_count": 123,
   "id": "eb3cd40e",
   "metadata": {},
   "outputs": [
    {
     "name": "stdout",
     "output_type": "stream",
     "text": [
      "YES AMSTRONG NUMBER\n"
     ]
    }
   ],
   "source": [
    "def fun(num):\n",
    "    old_num=num\n",
    "    sums=0\n",
    "    while num>0:\n",
    "        last_no=num%10\n",
    "        sums=sums+last_no**3\n",
    "        num=num//10\n",
    "        \n",
    "    if sums==old_num:   \n",
    "        return \"YES AMSTRONG NUMBER\"\n",
    "    else:\n",
    "        return \"NOT A AMSTRONG NUMBER\"\n",
    "        \n",
    "res=fun(153)\n",
    "print(res)"
   ]
  },
  {
   "cell_type": "code",
   "execution_count": 162,
   "id": "b5f5e02b",
   "metadata": {},
   "outputs": [
    {
     "name": "stdout",
     "output_type": "stream",
     "text": [
      "yes amstrong num\n"
     ]
    }
   ],
   "source": [
    "def fun(x):\n",
    "    old_num=x\n",
    "    count=0\n",
    "    while x>0:\n",
    "        count=count+1\n",
    "        x=x//10         # this code to calculate 3 0r 4 digit number\n",
    "        \n",
    "    y=old_num\n",
    "    sums=0\n",
    "    while y>0:\n",
    "        last_num= y%10\n",
    "        sums=sums+last_num**count\n",
    "        y=y//10\n",
    "    if sums==old_num:\n",
    "        print(\"yes amstrong num\")\n",
    "    else:\n",
    "        print(\"not a amstrong number\")\n",
    "        \n",
    "fun(153)"
   ]
  },
  {
   "cell_type": "code",
   "execution_count": null,
   "id": "1c2d34fc",
   "metadata": {},
   "outputs": [],
   "source": [
    "# Program to check Strong Number\n",
    "\n",
    "Input  : n = 145\n",
    "Output : Yes \n",
    "Sum of digit factorials = 1! + 4! + 5!\n",
    "                        = 1 + 24 + 120\n",
    "                        = 145\n",
    "        \n",
    "        \n",
    "# approach\n",
    "\n",
    "1. extract the digits 1,4,5\n",
    "2. factorial of each number \n",
    "3. sum of factorial of each digit\n",
    "if sum ==input then ok\n"
   ]
  },
  {
   "cell_type": "code",
   "execution_count": 4,
   "id": "90a3e45a",
   "metadata": {},
   "outputs": [
    {
     "name": "stdout",
     "output_type": "stream",
     "text": [
      "yes\n"
     ]
    }
   ],
   "source": [
    "def fun(num):\n",
    "    if num>0:\n",
    "        x=num\n",
    "        total=0\n",
    "        while x>0:\n",
    "            last_no = x%10\n",
    "            if last_no in [0,1]:\n",
    "                total=total+1\n",
    "            else:\n",
    "                res=1\n",
    "                i=1\n",
    "                while i<=last_no:   # find factorial of last_no\n",
    "                    res=res*i\n",
    "                    i+=1\n",
    "                total=total+res\n",
    "            x=x//10   \n",
    "        if total== num:\n",
    "            print(\"yes\")\n",
    "        else:\n",
    "            print(\"no\")        \n",
    "    else:\n",
    "        print(\"no\")\n",
    "\n",
    "        \n",
    "fun(145) "
   ]
  },
  {
   "cell_type": "code",
   "execution_count": 212,
   "id": "14fd6e30",
   "metadata": {
    "collapsed": true
   },
   "outputs": [
    {
     "ename": "SyntaxError",
     "evalue": "invalid syntax (Temp/ipykernel_2968/3197780427.py, line 4)",
     "output_type": "error",
     "traceback": [
      "\u001b[1;36m  File \u001b[1;32m\"C:\\Users\\Palak\\AppData\\Local\\Temp/ipykernel_2968/3197780427.py\"\u001b[1;36m, line \u001b[1;32m4\u001b[0m\n\u001b[1;33m    where r is radius of circle\u001b[0m\n\u001b[1;37m          ^\u001b[0m\n\u001b[1;31mSyntaxError\u001b[0m\u001b[1;31m:\u001b[0m invalid syntax\n"
     ]
    }
   ],
   "source": [
    "# Python Program for Program to find area of a circle\n",
    "\n",
    "Area = pi * r2\n",
    "where r is radius of circle "
   ]
  },
  {
   "cell_type": "code",
   "execution_count": 222,
   "id": "d3ffb445",
   "metadata": {},
   "outputs": [
    {
     "name": "stdout",
     "output_type": "stream",
     "text": [
      "1964.2857142857142\n"
     ]
    }
   ],
   "source": [
    "def circle_area(r):\n",
    "        a=(22/7)*(r**2)\n",
    "        return a\n",
    "print(circle_area(25))"
   ]
  },
  {
   "cell_type": "code",
   "execution_count": null,
   "id": "28d4b2fc",
   "metadata": {},
   "outputs": [],
   "source": [
    "# Python program to check whether a number is Prime or not\n",
    "\n",
    "prime no always greater than 1\n",
    "\n",
    "The first few prime numbers are {2, 3, 5, 7, 11, ….}\n",
    "input=2\n",
    "output=yes\n",
    "\n",
    "\n",
    "compisite number is opposite of prime number\n",
    "\n",
    "\n",
    "\n",
    "'''\n",
    "for loop with else condition\n",
    "\n",
    "#eg. \n",
    "\n",
    "for x in l:\n",
    "    ---- break\n",
    "else:\n",
    "    ---- it will excute if break not excute in for loop\n",
    "'''"
   ]
  },
  {
   "cell_type": "code",
   "execution_count": 361,
   "id": "e28013ab",
   "metadata": {},
   "outputs": [
    {
     "name": "stdout",
     "output_type": "stream",
     "text": [
      "2\n",
      "yes prime\n"
     ]
    }
   ],
   "source": [
    "num=int(input())\n",
    "\n",
    "if num>1:\n",
    "    for i in range(2, num):\n",
    "        if num%i==0:\n",
    "            print(\"not a prime number if not prime then its always a composite number\")\n",
    "            \n",
    "    else:\n",
    "        print(\"yes prime\")\n",
    "    \n",
    "else:\n",
    "    print(\"not a prime number if not prime then its always a composite number\")"
   ]
  },
  {
   "cell_type": "code",
   "execution_count": 9,
   "id": "bc1733d8",
   "metadata": {},
   "outputs": [
    {
     "name": "stdout",
     "output_type": "stream",
     "text": [
      "2\n",
      "prime no\n"
     ]
    }
   ],
   "source": [
    "# best way\n",
    "\n",
    "no=int(input())\n",
    "count=0\n",
    "for i in range(1, no+1):\n",
    "    if no%i==0:\n",
    "        count=count+1\n",
    "    else:\n",
    "        continue\n",
    "if count==2:\n",
    "    print(\"prime no\")   \n",
    "else:\n",
    "    print(\"composite no i.e, not a prime no\")\n",
    "\n"
   ]
  },
  {
   "cell_type": "code",
   "execution_count": null,
   "id": "c526f400",
   "metadata": {},
   "outputs": [],
   "source": []
  },
  {
   "cell_type": "code",
   "execution_count": 381,
   "id": "105bcbb1",
   "metadata": {
    "collapsed": true
   },
   "outputs": [
    {
     "ename": "SyntaxError",
     "evalue": "invalid syntax (Temp/ipykernel_2968/2076349032.py, line 3)",
     "output_type": "error",
     "traceback": [
      "\u001b[1;36m  File \u001b[1;32m\"C:\\Users\\Palak\\AppData\\Local\\Temp/ipykernel_2968/2076349032.py\"\u001b[1;36m, line \u001b[1;32m3\u001b[0m\n\u001b[1;33m    The first few prime numbers are {2, 3, 5, 7, 11, ….}\u001b[0m\n\u001b[1;37m        ^\u001b[0m\n\u001b[1;31mSyntaxError\u001b[0m\u001b[1;31m:\u001b[0m invalid syntax\n"
     ]
    }
   ],
   "source": [
    "# Python program to print all Prime numbers in an Interval\n",
    "\n",
    "The first few prime numbers are {2, 3, 5, 7, 11, ….}\n",
    "\n",
    "# example\n",
    "\n",
    "input x=0\n",
    "input y=10\n",
    "\n",
    "output=[2,3,5,7]\n"
   ]
  },
  {
   "cell_type": "code",
   "execution_count": 418,
   "id": "72616b42",
   "metadata": {},
   "outputs": [
    {
     "name": "stdout",
     "output_type": "stream",
     "text": [
      "0\n",
      "10\n",
      "[2, 3, 5, 7]\n"
     ]
    }
   ],
   "source": [
    "def prime_no(x,y):\n",
    "    lists=[]\n",
    "    for i in range(x,y+1):\n",
    "        count=0\n",
    "        for j in range(1, i+1):\n",
    "            if i%j==0:\n",
    "                count=count+1\n",
    "            else:\n",
    "                continue\n",
    "                \n",
    "        if count==2:\n",
    "            lists.append(i)\n",
    "        else:\n",
    "            continue\n",
    "            \n",
    "    return lists\n",
    "\n",
    "x=int(input())\n",
    "y=int(input())\n",
    "res=prime_no(x,y)\n",
    "print(res)"
   ]
  },
  {
   "cell_type": "code",
   "execution_count": null,
   "id": "33406ece",
   "metadata": {},
   "outputs": [],
   "source": [
    "# write program to find even number from a list of number\n",
    "\n",
    "i/p: l=[1,2,3,4,5,6,7]\n",
    "o/p:  [2,4,6]"
   ]
  },
  {
   "cell_type": "code",
   "execution_count": 31,
   "id": "e8bd124f",
   "metadata": {},
   "outputs": [
    {
     "name": "stdout",
     "output_type": "stream",
     "text": [
      "1,2,3,4,5,6,7\n",
      "[2, 4, 6]\n"
     ]
    }
   ],
   "source": [
    "l=[int(i) for i in input().split(\",\")]\n",
    "\n",
    "#l=[1,2,3,4,5,6,7]\n",
    "\n",
    "lists=[]\n",
    "for i in l:\n",
    "    if i%2==0:\n",
    "        lists.append(i)\n",
    "    else:\n",
    "        continue\n",
    "\n",
    "print(lists)\n",
    "\n",
    "\n"
   ]
  },
  {
   "cell_type": "code",
   "execution_count": null,
   "id": "dfc2096b",
   "metadata": {},
   "outputs": [],
   "source": [
    "# write program to find odd number from a list of number\n",
    "\n",
    "i/p: l=[1,2,3,4,5,6,7]\n",
    "o/p:  [1,3,5,7]"
   ]
  },
  {
   "cell_type": "code",
   "execution_count": 36,
   "id": "b7df6885",
   "metadata": {},
   "outputs": [
    {
     "name": "stdout",
     "output_type": "stream",
     "text": [
      "1,2,3,4,5,6,7\n",
      "[1, 3, 5, 7]\n"
     ]
    }
   ],
   "source": [
    "l=[int(i) for i in input().split(\",\")]\n",
    "\n",
    "lists=[]\n",
    "for i in l:\n",
    "    if i%2!=0:\n",
    "        lists.append(i)\n",
    "    else:\n",
    "        continue\n",
    "print(lists)\n"
   ]
  },
  {
   "cell_type": "code",
   "execution_count": null,
   "id": "707c791c",
   "metadata": {},
   "outputs": [],
   "source": [
    "# write program to find even  and odd number from a list of number\n",
    "\n",
    "i/p: l=[1,2,3,4,5,6,7]\n",
    "o/p:  even =[2,4,6] and odd=[1,3,5,7]"
   ]
  },
  {
   "cell_type": "code",
   "execution_count": 37,
   "id": "bb6ae8f3",
   "metadata": {},
   "outputs": [
    {
     "name": "stdout",
     "output_type": "stream",
     "text": [
      "1,2,3,4,5,6,7\n",
      "[2, 4, 6]\n",
      "[1, 3, 5, 7]\n"
     ]
    }
   ],
   "source": [
    "l=[int(i) for i in input().split(\",\")]\n",
    "\n",
    "list_even=[]\n",
    "list_odd=[]\n",
    "\n",
    "for i in l:\n",
    "    if i%2==0:\n",
    "        list_even.append(i)\n",
    "    else:\n",
    "        list_odd.append(i)\n",
    "print(list_even)\n",
    "print(list_odd)"
   ]
  },
  {
   "cell_type": "code",
   "execution_count": null,
   "id": "e5ea3efc",
   "metadata": {},
   "outputs": [],
   "source": [
    "# write a python code to check 2ND char is vowels or not\n",
    "\n",
    "l=[\"Amit\", \"NIRob\",'NIPA']\n",
    "\n",
    "o/p : [\"NIRob\",'NIPA']"
   ]
  },
  {
   "cell_type": "code",
   "execution_count": 38,
   "id": "e51bbe35",
   "metadata": {},
   "outputs": [
    {
     "name": "stdout",
     "output_type": "stream",
     "text": [
      "['NIROB', 'NIPA']\n"
     ]
    }
   ],
   "source": [
    "l=[\"Amit\", \"NIRob\",'NIPA']\n",
    "\n",
    "v=['a','e','i','o','u']\n",
    "\n",
    "lists=[]\n",
    "for i in l:\n",
    "    if i[1].lower() in v:\n",
    "        lists.append(i.upper())\n",
    "    else:\n",
    "        continue\n",
    "\n",
    "print(lists)"
   ]
  },
  {
   "cell_type": "code",
   "execution_count": 39,
   "id": "c69f1c74",
   "metadata": {},
   "outputs": [
    {
     "name": "stdout",
     "output_type": "stream",
     "text": [
      "[5, 10, 15, 20, 25, 55]\n",
      "[8, 12, 18, 21, 23, 44, 23]\n"
     ]
    }
   ],
   "source": [
    "# write a python programe for a given list which is divisible by 5\n",
    "\n",
    "l=[5,8,10,12,15,18,20,21,25,23,44,55,23]\n",
    "\n",
    "lists=[]\n",
    "lists_not_by_5=[]\n",
    "for i in l:\n",
    "    if i%5==0:\n",
    "        lists.append(i)\n",
    "    else:\n",
    "        lists_not_by_5.append(i)\n",
    "        \n",
    "print(lists)\n",
    "print(lists_not_by_5)\n"
   ]
  },
  {
   "cell_type": "code",
   "execution_count": 42,
   "id": "5ef9fd5f",
   "metadata": {},
   "outputs": [
    {
     "name": "stdout",
     "output_type": "stream",
     "text": [
      "0,1,2,3,4,5,6,7,8,9,10\n",
      "30\n",
      "25\n"
     ]
    }
   ],
   "source": [
    "# python programe for sum of all odd number and even number in a lists\n",
    "\n",
    "l=[int(i) for i in input().split(\",\")]\n",
    "\n",
    "sum_even=0\n",
    "sum_odd=0\n",
    "\n",
    "for i in l:\n",
    "    if i%2==0:\n",
    "        sum_even = sum_even + i\n",
    "    else:\n",
    "        sum_odd = sum_odd + i\n",
    "\n",
    "print(sum_even)\n",
    "print(sum_odd)\n",
    "    \n",
    "\n",
    "\n"
   ]
  },
  {
   "cell_type": "code",
   "execution_count": 15,
   "id": "5e92b3c7",
   "metadata": {},
   "outputs": [
    {
     "name": "stdout",
     "output_type": "stream",
     "text": [
      "['i', 's', 'a', 't', 'n', 'e']\n"
     ]
    }
   ],
   "source": [
    "# write a python programe to print 2 nd character of strings\n",
    "\n",
    "s='instantances'\n",
    "\n",
    "l=[]\n",
    "for i in range(len(s)):\n",
    "    if i%2==0:\n",
    "        l.append(s[i])\n",
    "    else:\n",
    "        continue\n",
    "\n",
    "print(l)\n"
   ]
  },
  {
   "cell_type": "code",
   "execution_count": 22,
   "id": "fa823344",
   "metadata": {},
   "outputs": [
    {
     "name": "stdout",
     "output_type": "stream",
     "text": [
      "adoyde"
     ]
    }
   ],
   "source": [
    "s=\"edyoda\"\n",
    "for i in range(len(s)-1,-1,-1):\n",
    "    print(s[i],end=\"\")"
   ]
  },
  {
   "cell_type": "code",
   "execution_count": 87,
   "id": "07f7f4d4",
   "metadata": {
    "collapsed": true
   },
   "outputs": [
    {
     "name": "stdout",
     "output_type": "stream",
     "text": [
      "11\n",
      "0\n",
      "1\n",
      "1\n",
      "2\n",
      "3\n",
      "5\n",
      "8\n"
     ]
    }
   ],
   "source": [
    "# Python Program Fibonacci number\n",
    "\n",
    "no = int(input())\n",
    "\n",
    "x=0\n",
    "y=1\n",
    "print(x)\n",
    "while y<=no:\n",
    "    print(y)\n",
    "    z=x+y\n",
    "    x=y\n",
    "    y=z"
   ]
  },
  {
   "cell_type": "code",
   "execution_count": null,
   "id": "3bb9e4fc",
   "metadata": {},
   "outputs": [],
   "source": [
    "# Python Program for n-th Fibonacci number\n",
    "0,1,1,2,3,5,8,13,21,34,55 etc...\n",
    "\n",
    "# input : 9 th term \n",
    "# output : 21"
   ]
  },
  {
   "cell_type": "code",
   "execution_count": 86,
   "id": "37c88342",
   "metadata": {
    "collapsed": true
   },
   "outputs": [
    {
     "name": "stdout",
     "output_type": "stream",
     "text": [
      "1\n",
      "2\n",
      "3\n",
      "5\n",
      "8\n",
      "13\n",
      "21\n",
      "21\n"
     ]
    }
   ],
   "source": [
    "def fibonacci(num):\n",
    "    if num<0:\n",
    "        return \"cant do for -ve no\"\n",
    "    elif num==0:\n",
    "        return 0\n",
    "    elif num==1:\n",
    "        return 1\n",
    "    else:\n",
    "        a=0\n",
    "        b=1\n",
    "        for i in range(0,num-2): # at 7th iteration required as a, b first 2 iteration only 7 left--> 9th tems is 21\n",
    "            c=a+b\n",
    "            a=b\n",
    "            b=c\n",
    "            print(c)\n",
    "        return b\n",
    "        \n",
    "        \n",
    "print(fibonacci(9)) "
   ]
  },
  {
   "cell_type": "markdown",
   "id": "b2b5dec5",
   "metadata": {},
   "source": [
    "#### "
   ]
  },
  {
   "cell_type": "code",
   "execution_count": 97,
   "id": "a42fb35a",
   "metadata": {
    "collapsed": true
   },
   "outputs": [
    {
     "name": "stdout",
     "output_type": "stream",
     "text": [
      "9\n",
      "0\n",
      "1\n",
      "1\n",
      "2\n",
      "3\n",
      "5\n",
      "8\n",
      "13\n",
      "21\n"
     ]
    }
   ],
   "source": [
    "# fibonacci number \n",
    "\n",
    "no=int(input())\n",
    "\n",
    "a=0\n",
    "b=1\n",
    "if no <0:\n",
    "    print(\"cant do for -ve no\")\n",
    "elif no ==0:\n",
    "    print(a)\n",
    "elif no ==1:\n",
    "    print(b)\n",
    "else:\n",
    "    print(a)\n",
    "    print(b)\n",
    "    for i in range(0,no-2):\n",
    "        c=a+b\n",
    "        print(c)\n",
    "        a=b\n",
    "        b=c"
   ]
  },
  {
   "cell_type": "code",
   "execution_count": null,
   "id": "9e6f0fea",
   "metadata": {},
   "outputs": [],
   "source": [
    "# Python Program for How to check if a given number is Fibonacci number?\n",
    "\n",
    "\n",
    "First few Fibonacci numbers are 0, 1, 1, 2, 3, 5, 8, 13, 21, 34, 55, 89, 144, .. \n",
    "Examples : \n",
    "\n",
    "Input : 8\n",
    "Output : Yes\n",
    "    \n",
    "Input : 41\n",
    "Output : No"
   ]
  },
  {
   "cell_type": "code",
   "execution_count": 136,
   "id": "dc4f0e56",
   "metadata": {},
   "outputs": [
    {
     "name": "stdout",
     "output_type": "stream",
     "text": [
      "41\n",
      "no\n"
     ]
    }
   ],
   "source": [
    "num=int(input())\n",
    "\n",
    "a=0\n",
    "b=1\n",
    "if num in [0,1]:\n",
    "    print(\"yes\")\n",
    "else:\n",
    "    print(a)\n",
    "    while b<=num:\n",
    "        print(b)\n",
    "        c=a+b\n",
    "        a=b\n",
    "        b=c\n",
    "        if c==num:  # c or b anyone\n",
    "            print(\"yes\")\n",
    "            break\n",
    "    else:\n",
    "        print(\"no\")"
   ]
  },
  {
   "cell_type": "code",
   "execution_count": 146,
   "id": "d2cec711",
   "metadata": {},
   "outputs": [
    {
     "name": "stdout",
     "output_type": "stream",
     "text": [
      "a b c d e f g h i j k l m n o p q r s t u v w x y z "
     ]
    }
   ],
   "source": [
    "# Program to print ASCII Value of a character\n",
    "\n",
    "for i in range(ord('a'), ord('z')+1):\n",
    "    print(chr(i), end=' ')"
   ]
  },
  {
   "cell_type": "code",
   "execution_count": 144,
   "id": "2b61e0e7",
   "metadata": {},
   "outputs": [
    {
     "name": "stdout",
     "output_type": "stream",
     "text": [
      "A B C D E F G H I J K L M N O P Q R S T U V W X Y Z "
     ]
    }
   ],
   "source": [
    "for i in range(ord('A'), ord('Z')+1):\n",
    "    print(chr(i), end=' ')"
   ]
  },
  {
   "cell_type": "code",
   "execution_count": 145,
   "id": "8e2e2c29",
   "metadata": {},
   "outputs": [
    {
     "name": "stdout",
     "output_type": "stream",
     "text": [
      "65 66 67 68 69 70 71 72 73 74 75 76 77 78 79 80 81 82 83 84 85 86 87 88 89 90 "
     ]
    }
   ],
   "source": [
    "for i in range(ord('A'), ord('Z')+1):\n",
    "    print(i, end=' ')"
   ]
  },
  {
   "cell_type": "code",
   "execution_count": 148,
   "id": "c8e6c81e",
   "metadata": {},
   "outputs": [
    {
     "name": "stdout",
     "output_type": "stream",
     "text": [
      "97 98 99 100 101 102 103 104 105 106 107 108 109 110 111 112 113 114 115 116 117 118 119 120 121 122 "
     ]
    }
   ],
   "source": [
    "for i in range(ord('a'), ord('z')+1):\n",
    "    print(i, end=' ')"
   ]
  },
  {
   "cell_type": "code",
   "execution_count": 153,
   "id": "ce89854c",
   "metadata": {},
   "outputs": [
    {
     "name": "stdout",
     "output_type": "stream",
     "text": [
      "a\n",
      "97\n"
     ]
    }
   ],
   "source": [
    "x= input()\n",
    "\n",
    "print(ord(x))"
   ]
  },
  {
   "cell_type": "code",
   "execution_count": 2,
   "id": "ad177aec",
   "metadata": {},
   "outputs": [
    {
     "name": "stdout",
     "output_type": "stream",
     "text": [
      "97\n",
      "a\n"
     ]
    }
   ],
   "source": [
    "x=int(input())\n",
    "print(chr(x))"
   ]
  },
  {
   "cell_type": "code",
   "execution_count": null,
   "id": "5ddce17c",
   "metadata": {},
   "outputs": [],
   "source": [
    "# Python Program for Sum of squares of first n natural numbers\n",
    "\n",
    "Input : N = 4\n",
    "Output : 30\n",
    "1**2 + 2**2 + 3**2 + 4**2\n",
    "= 1 + 4 + 9 + 16\n",
    "= 30"
   ]
  },
  {
   "cell_type": "code",
   "execution_count": 7,
   "id": "5f92a55e",
   "metadata": {},
   "outputs": [
    {
     "name": "stdout",
     "output_type": "stream",
     "text": [
      "4\n",
      "30\n"
     ]
    }
   ],
   "source": [
    "num = int(input())\n",
    "sums=0\n",
    "for i in range(1, num+1):\n",
    "    sums = sums + i**2\n",
    "print(sums)\n"
   ]
  },
  {
   "cell_type": "code",
   "execution_count": 8,
   "id": "81602e61",
   "metadata": {},
   "outputs": [],
   "source": [
    "# Python Program for cube sum of first n natural numbers\n",
    "\n",
    "Input : n = 5\n",
    "Output : 225\n",
    "1**3 + 2**3 + 3**3 + 4**3 + 5**3 = 225"
   ]
  },
  {
   "cell_type": "code",
   "execution_count": 9,
   "id": "30b6066d",
   "metadata": {},
   "outputs": [
    {
     "name": "stdout",
     "output_type": "stream",
     "text": [
      "5\n",
      "225\n"
     ]
    }
   ],
   "source": [
    "num=int(input())\n",
    "\n",
    "sums=0\n",
    "for i in range(1, num+1):\n",
    "    sums=sums+i**3\n",
    "\n",
    "print(sums)\n"
   ]
  }
 ],
 "metadata": {
  "kernelspec": {
   "display_name": "Python 3 (ipykernel)",
   "language": "python",
   "name": "python3"
  },
  "language_info": {
   "codemirror_mode": {
    "name": "ipython",
    "version": 3
   },
   "file_extension": ".py",
   "mimetype": "text/x-python",
   "name": "python",
   "nbconvert_exporter": "python",
   "pygments_lexer": "ipython3",
   "version": "3.8.9"
  }
 },
 "nbformat": 4,
 "nbformat_minor": 5
}
